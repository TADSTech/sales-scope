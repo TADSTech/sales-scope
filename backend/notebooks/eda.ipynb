{
 "cells": [
  {
   "cell_type": "markdown",
   "id": "5bc675b6",
   "metadata": {},
   "source": [
    "***Here i will be performing some cleaning and EDA on the data***"
   ]
  },
  {
   "cell_type": "code",
   "execution_count": 1,
   "id": "1b75ef44",
   "metadata": {},
   "outputs": [],
   "source": [
    "import pandas as pd\n",
    "import numpy as np\n",
    "\n",
    "df = pd.read_csv(\"../data/sales_data.csv\")"
   ]
  },
  {
   "cell_type": "markdown",
   "id": "aa596caf",
   "metadata": {},
   "source": [
    "**very swiftly lets get an idea of the data**"
   ]
  },
  {
   "cell_type": "code",
   "execution_count": 2,
   "id": "f3b4e6e1",
   "metadata": {},
   "outputs": [
    {
     "name": "stdout",
     "output_type": "stream",
     "text": [
      "<class 'pandas.core.frame.DataFrame'>\n",
      "RangeIndex: 4978 entries, 0 to 4977\n",
      "Data columns (total 19 columns):\n",
      " #   Column            Non-Null Count  Dtype  \n",
      "---  ------            --------------  -----  \n",
      " 0   order_id          4978 non-null   object \n",
      " 1   order_date        4978 non-null   object \n",
      " 2   ship_date         4978 non-null   object \n",
      " 3   customer_id       4978 non-null   object \n",
      " 4   customer_name     4978 non-null   object \n",
      " 5   customer_segment  4978 non-null   object \n",
      " 6   product_id        4978 non-null   object \n",
      " 7   product_name      4978 non-null   object \n",
      " 8   category          4978 non-null   object \n",
      " 9   subcategory       4978 non-null   object \n",
      " 10  quantity          4978 non-null   int64  \n",
      " 11  sales             4978 non-null   float64\n",
      " 12  discount          4978 non-null   float64\n",
      " 13  profit            4978 non-null   float64\n",
      " 14  region            4978 non-null   object \n",
      " 15  city              4978 non-null   object \n",
      " 16  state             4978 non-null   object \n",
      " 17  shipping_cost     4978 non-null   float64\n",
      " 18  payment_type      4978 non-null   object \n",
      "dtypes: float64(4), int64(1), object(14)\n",
      "memory usage: 739.1+ KB\n"
     ]
    }
   ],
   "source": [
    "df.head(5)\n",
    "df.info()"
   ]
  },
  {
   "cell_type": "markdown",
   "id": "a26e6fda",
   "metadata": {},
   "source": [
    "_Lets setup the date time_"
   ]
  },
  {
   "cell_type": "code",
   "execution_count": 3,
   "id": "b6a3856b",
   "metadata": {},
   "outputs": [],
   "source": [
    "df['order_date'] = pd.to_datetime(df['order_date'], errors='coerce')\n",
    "df['ship_date'] = pd.to_datetime(df['ship_date'], errors='coerce')"
   ]
  },
  {
   "cell_type": "markdown",
   "id": "fff4efec",
   "metadata": {},
   "source": [
    "_check for other things_"
   ]
  },
  {
   "cell_type": "code",
   "execution_count": 4,
   "id": "1b304ede",
   "metadata": {},
   "outputs": [
    {
     "name": "stdout",
     "output_type": "stream",
     "text": [
      "order_id            0\n",
      "order_date          0\n",
      "ship_date           0\n",
      "customer_id         0\n",
      "customer_name       0\n",
      "customer_segment    0\n",
      "product_id          0\n",
      "product_name        0\n",
      "category            0\n",
      "subcategory         0\n",
      "quantity            0\n",
      "sales               0\n",
      "discount            0\n",
      "profit              0\n",
      "region              0\n",
      "city                0\n",
      "state               0\n",
      "shipping_cost       0\n",
      "payment_type        0\n",
      "dtype: int64\n",
      "\n",
      "\n",
      "4978 4978\n",
      "\n",
      "\n",
      "sales            float64\n",
      "profit           float64\n",
      "discount         float64\n",
      "quantity           int64\n",
      "shipping_cost    float64\n",
      "dtype: object\n"
     ]
    }
   ],
   "source": [
    "print(df.isnull().sum())\n",
    "print(\"\\n\")\n",
    "print(df['order_id'].nunique(), len(df))\n",
    "print(\"\\n\")\n",
    "print(df[['sales','profit','discount','quantity','shipping_cost']].dtypes)"
   ]
  },
  {
   "cell_type": "markdown",
   "id": "fc855347",
   "metadata": {},
   "source": [
    "**Finally we export**"
   ]
  },
  {
   "cell_type": "code",
   "execution_count": 5,
   "id": "39d32dea",
   "metadata": {},
   "outputs": [],
   "source": [
    "df.to_json(\"../exports/sales.json\", orient=\"records\")"
   ]
  }
 ],
 "metadata": {
  "kernelspec": {
   "display_name": "venv",
   "language": "python",
   "name": "python3"
  },
  "language_info": {
   "codemirror_mode": {
    "name": "ipython",
    "version": 3
   },
   "file_extension": ".py",
   "mimetype": "text/x-python",
   "name": "python",
   "nbconvert_exporter": "python",
   "pygments_lexer": "ipython3",
   "version": "3.13.3"
  }
 },
 "nbformat": 4,
 "nbformat_minor": 5
}
